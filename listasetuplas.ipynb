{
  "nbformat": 4,
  "nbformat_minor": 0,
  "metadata": {
    "colab": {
      "provenance": [],
      "authorship_tag": "ABX9TyPW0xBHBySUp1XPpicf/hRD",
      "include_colab_link": true
    },
    "kernelspec": {
      "name": "python3",
      "display_name": "Python 3"
    },
    "language_info": {
      "name": "python"
    }
  },
  "cells": [
    {
      "cell_type": "markdown",
      "metadata": {
        "id": "view-in-github",
        "colab_type": "text"
      },
      "source": [
        "<a href=\"https://colab.research.google.com/github/KELLYSILVAARAUJO/Conclus-o-do-Curso-Python-Essentials-1-Cisco-Networking-Academy-/blob/main/listasetuplas.ipynb\" target=\"_parent\"><img src=\"https://colab.research.google.com/assets/colab-badge.svg\" alt=\"Open In Colab\"/></a>"
      ]
    },
    {
      "cell_type": "code",
      "execution_count": 1,
      "metadata": {
        "colab": {
          "base_uri": "https://localhost:8080/"
        },
        "id": "vTrDvYeqtv1m",
        "outputId": "c572a811-fd98-4d22-ef0a-bc40f21c8988"
      },
      "outputs": [
        {
          "output_type": "stream",
          "name": "stdout",
          "text": [
            "Digite o 1º número inteiro: 2\n",
            "Digite o 2º número inteiro: 8\n",
            "Digite o 3º número inteiro: 9\n",
            "Digite o 4º número inteiro: 7\n",
            "Digite o 5º número inteiro: 8\n",
            "A lista digitada foi: [2, 8, 9, 7, 8]\n"
          ]
        }
      ],
      "source": [
        "# Cria uma lista vazia\n",
        "numeros = []\n",
        "\n",
        "# Solicita 5 números inteiros ao usuário\n",
        "for i in range(5):\n",
        "    numero = int(input(f\"Digite o {i+1}º número inteiro: \"))\n",
        "    numeros.append(numero)\n",
        "\n",
        "# Exibe a lista final\n",
        "print(\"A lista digitada foi:\", numeros)\n"
      ]
    },
    {
      "cell_type": "code",
      "source": [
        "# Cria uma lista de números (exemplo)\n",
        "numeros = [-5, 3, -8, 2, -1]\n",
        "\n",
        "# Aplica a função módulo (valor absoluto) a cada elemento\n",
        "modulos = [abs(num) for num in numeros]\n",
        "\n",
        "# Exibe o resultado\n",
        "print(\"Lista original:\", numeros)\n",
        "print(\"Lista com módulo aplicado:\", modulos)"
      ],
      "metadata": {
        "colab": {
          "base_uri": "https://localhost:8080/"
        },
        "id": "SvcngVF_uDpB",
        "outputId": "396ea4b0-5dde-4db7-deba-e247f70d37f3"
      },
      "execution_count": 2,
      "outputs": [
        {
          "output_type": "stream",
          "name": "stdout",
          "text": [
            "Lista original: [-5, 3, -8, 2, -1]\n",
            "Lista com módulo aplicado: [5, 3, 8, 2, 1]\n"
          ]
        }
      ]
    },
    {
      "cell_type": "code",
      "source": [
        "# Cria uma lista de números (exemplo)\n",
        "numeros = [-5, 3, -8, 2, -1, 7]\n",
        "\n",
        "# Remove todos os números negativos\n",
        "numeros = [num for num in numeros if num >= 0]\n",
        "\n",
        "# Exibe a lista sem números negativos\n",
        "print(\"Lista sem números negativos:\", numeros)\n"
      ],
      "metadata": {
        "colab": {
          "base_uri": "https://localhost:8080/"
        },
        "id": "4ErrJoj9uJiy",
        "outputId": "b88e89a6-d4db-490f-89e1-22e12131b780"
      },
      "execution_count": 3,
      "outputs": [
        {
          "output_type": "stream",
          "name": "stdout",
          "text": [
            "Lista sem números negativos: [3, 2, 7]\n"
          ]
        }
      ]
    },
    {
      "cell_type": "code",
      "source": [
        "# Cria uma lista vazia para armazenar as notas\n",
        "notas = []\n",
        "\n",
        "print(\"Digite as notas da prova (digite um número negativo para encerrar):\")\n",
        "\n",
        "while True:\n",
        "    nota = float(input(\"Nota: \"))\n",
        "    if nota < 0:\n",
        "        break  # Encerra o loop quando o usuário digitar um número negativo\n",
        "    notas.append(nota)\n",
        "\n",
        "# Verifica se a lista não está vazia antes de calcular a média\n",
        "if len(notas) > 0:\n",
        "    media = sum(notas) / len(notas)\n",
        "    print(f\"\\nNotas digitadas: {notas}\")\n",
        "    print(f\"Média das notas: {media:.2f}\")\n",
        "else:\n",
        "    print(\"Nenhuma nota válida foi digitada.\")\n"
      ],
      "metadata": {
        "colab": {
          "base_uri": "https://localhost:8080/"
        },
        "id": "Nb002oCJuYvg",
        "outputId": "72c055a3-89d0-4c76-f6ad-01ce13986835"
      },
      "execution_count": 4,
      "outputs": [
        {
          "output_type": "stream",
          "name": "stdout",
          "text": [
            "Digite as notas da prova (digite um número negativo para encerrar):\n",
            "Nota: 4\n",
            "Nota: 7\n",
            "Nota: 8\n",
            "Nota: 9\n",
            "Nota: 7\n",
            "Nota: 7\n",
            "Nota: 6\n",
            "Nota: 6\n",
            "Nota: 5\n",
            "Nota: -5\n",
            "\n",
            "Notas digitadas: [4.0, 7.0, 8.0, 9.0, 7.0, 7.0, 6.0, 6.0, 5.0]\n",
            "Média das notas: 6.56\n"
          ]
        }
      ]
    },
    {
      "cell_type": "code",
      "source": [
        "pares = []\n",
        "impares = []\n",
        "\n",
        "while True:\n",
        "    numero = int(input(\"Digite um número positivo (ou um número negativo para sair): \"))\n",
        "\n",
        "    if numero < 0:\n",
        "        break  # encerra o loop quando o número for negativo\n",
        "\n",
        "    if numero % 2 == 0:\n",
        "        pares.append(numero)\n",
        "    else:\n",
        "        impares.append(numero)\n",
        "\n",
        "total = len(pares) + len(impares)\n",
        "\n",
        "if total > 0:\n",
        "    porcentagem_pares = (len(pares) / total) * 100\n",
        "    porcentagem_impares = (len(impares) / total) * 100\n",
        "\n",
        "    print(\"\\n=== Resultados ===\")\n",
        "    print(f\"Números pares: {pares}\")\n",
        "    print(f\"Números ímpares: {impares}\")\n",
        "    print(f\"Porcentagem de pares: {porcentagem_pares:.2f}%\")\n",
        "    print(f\"Porcentagem de ímpares: {porcentagem_impares:.2f}%\")\n",
        "else:\n",
        "    print(\"Nenhum número positivo foi digitado.\")\n"
      ],
      "metadata": {
        "colab": {
          "base_uri": "https://localhost:8080/"
        },
        "id": "NkVWL843uk-6",
        "outputId": "e56a294b-34a2-4f19-f3e3-4d892c521fbc"
      },
      "execution_count": 5,
      "outputs": [
        {
          "output_type": "stream",
          "name": "stdout",
          "text": [
            "Digite um número positivo (ou um número negativo para sair): 5\n",
            "Digite um número positivo (ou um número negativo para sair): 8\n",
            "Digite um número positivo (ou um número negativo para sair): 9\n",
            "Digite um número positivo (ou um número negativo para sair): 5\n",
            "Digite um número positivo (ou um número negativo para sair): -9\n",
            "\n",
            "=== Resultados ===\n",
            "Números pares: [8]\n",
            "Números ímpares: [5, 9, 5]\n",
            "Porcentagem de pares: 25.00%\n",
            "Porcentagem de ímpares: 75.00%\n"
          ]
        }
      ]
    },
    {
      "cell_type": "code",
      "source": [
        "numeros = []\n",
        "\n",
        "while True:\n",
        "    numero = int(input(\"Digite um número positivo (ou um número negativo para sair): \"))\n",
        "\n",
        "    if numero < 0:\n",
        "        break  # encerra o loop quando o número for negativo\n",
        "\n",
        "    if numero not in numeros:\n",
        "        numeros.append(numero)  # adiciona apenas se ainda não estiver na lista\n",
        "\n",
        "print(\"\\n=== Números digitados (sem repetição) ===\")\n",
        "print(numeros)"
      ],
      "metadata": {
        "colab": {
          "base_uri": "https://localhost:8080/"
        },
        "id": "EUUBLhP2uuPa",
        "outputId": "b1728ecc-621b-4135-c6ac-dcd72612bbe3"
      },
      "execution_count": 7,
      "outputs": [
        {
          "output_type": "stream",
          "name": "stdout",
          "text": [
            "Digite um número positivo (ou um número negativo para sair): 8\n",
            "Digite um número positivo (ou um número negativo para sair): -8\n",
            "\n",
            "=== Números digitados (sem repetição) ===\n",
            "[8]\n"
          ]
        }
      ]
    },
    {
      "cell_type": "code",
      "source": [
        "pessoas = []  # lista para armazenar as tuplas (altura, peso)\n",
        "\n",
        "for i in range(5):\n",
        "    print(f\"\\nPessoa {i + 1}:\")\n",
        "    altura = float(input(\"Digite a altura (em metros): \"))\n",
        "    peso = float(input(\"Digite o peso (em kg): \"))\n",
        "\n",
        "    pessoas.append((altura, peso))  # armazena como tupla (altura, peso)\n",
        "\n",
        "# Verifica se há pelo menos duas pessoas com mesma altura e mesmo peso\n",
        "repetido = False\n",
        "for i in range(len(pessoas)):\n",
        "    for j in range(i + 1, len(pessoas)):\n",
        "        if pessoas[i] == pessoas[j]:\n",
        "            repetido = True\n",
        "            break\n",
        "    if repetido:\n",
        "        break\n",
        "\n",
        "print(\"\\n=== Resultado ===\")\n",
        "if repetido:\n",
        "    print(\"Pelo menos duas pessoas têm a mesma altura e o mesmo peso.\")\n",
        "else:\n",
        "    print(\"Nenhuma combinação de altura e peso se repete.\")\n"
      ],
      "metadata": {
        "colab": {
          "base_uri": "https://localhost:8080/"
        },
        "id": "JoiAF8P1u5hK",
        "outputId": "beed46bd-d4ad-47ce-f09e-cb78a7c39550"
      },
      "execution_count": 8,
      "outputs": [
        {
          "output_type": "stream",
          "name": "stdout",
          "text": [
            "\n",
            "Pessoa 1:\n",
            "Digite a altura (em metros): 167\n",
            "Digite o peso (em kg): 58\n",
            "\n",
            "Pessoa 2:\n",
            "Digite a altura (em metros): 180\n",
            "Digite o peso (em kg): 80\n",
            "\n",
            "Pessoa 3:\n",
            "Digite a altura (em metros): 156\n",
            "Digite o peso (em kg): 802\n",
            "\n",
            "Pessoa 4:\n",
            "Digite a altura (em metros): 185\n",
            "Digite o peso (em kg): 45\n",
            "\n",
            "Pessoa 5:\n",
            "Digite a altura (em metros): 170\n",
            "Digite o peso (em kg): 60\n",
            "\n",
            "=== Resultado ===\n",
            "Nenhuma combinação de altura e peso se repete.\n"
          ]
        }
      ]
    },
    {
      "cell_type": "code",
      "source": [
        "# Cria uma lista para armazenar as pessoas\n",
        "pessoas = []\n",
        "\n",
        "print(\"Digite o nome e a idade das pessoas.\")\n",
        "print(\"Para encerrar, pressione ENTER sem digitar um nome.\\n\")\n",
        "\n",
        "while True:\n",
        "    nome = input(\"Nome: \")\n",
        "    if nome == \"\":\n",
        "        break  # Sai do loop se o nome for vazio\n",
        "    idade = int(input(\"Idade: \"))\n",
        "    pessoas.append((nome, idade))  # Armazena como uma tupla (nome, idade)\n",
        "\n",
        "# Verifica se a lista não está vazia\n",
        "if pessoas:\n",
        "    # Encontra a pessoa mais velha usando a função max()\n",
        "    mais_velha = max(pessoas, key=lambda p: p[1])\n",
        "    print(f\"\\nA pessoa mais velha é {mais_velha[0]}, com {mais_velha[1]} anos.\")\n",
        "else:\n",
        "    print(\"\\nNenhuma pessoa foi cadastrada.\")\n"
      ],
      "metadata": {
        "colab": {
          "base_uri": "https://localhost:8080/"
        },
        "id": "bWs7K_EIvMfU",
        "outputId": "e99ab574-e526-40ee-e157-38cf7c2cfd01"
      },
      "execution_count": 9,
      "outputs": [
        {
          "output_type": "stream",
          "name": "stdout",
          "text": [
            "Digite o nome e a idade das pessoas.\n",
            "Para encerrar, pressione ENTER sem digitar um nome.\n",
            "\n",
            "Nome: Kelly\n",
            "Idade: 27\n",
            "Nome: Joao \n",
            "Idade: 45\n",
            "Nome: Keyla \n",
            "Idade: 58\n",
            "Nome: Leila \n",
            "Idade: 20\n",
            "Nome: \n",
            "\n",
            "A pessoa mais velha é Keyla , com 58 anos.\n"
          ]
        }
      ]
    },
    {
      "cell_type": "code",
      "source": [
        "alunos = {\n",
        "    \"Alice\": 8.5,\n",
        "    \"Bruno\": 7.8,\n",
        "    \"Carla\": 9.2,\n",
        "    \"Diego\": 6.9,\n",
        "    \"Eva\": 8.0,\n",
        "    \"Fernando\": 7.5,\n",
        "    \"Gabriela\": 9.0,\n",
        "    \"Henrique\": 6.7,\n",
        "    \"Isabela\": 8.3,\n",
        "    \"João\": 7.2\n",
        "}\n",
        "\n",
        "print(\"Quantidade de alunos:\", len(alunos))\n",
        "\n",
        "# Exibir “Sim” ou “Não”\n",
        "if 0 in alunos.values():\n",
        "    print(\"Alguém tirou nota zero? Sim\")\n",
        "else:\n",
        "    print(\"Alguém tirou nota zero? Não\")\n",
        "\n",
        "print(\"Menor nota:\", min(alunos.values()))\n",
        "print(\"Maior nota:\", max(alunos.values()))\n"
      ],
      "metadata": {
        "colab": {
          "base_uri": "https://localhost:8080/"
        },
        "id": "D7u0FPYyvdqc",
        "outputId": "dcf87aa2-5ea7-4b0e-a64a-afa1c7b5dd26"
      },
      "execution_count": 10,
      "outputs": [
        {
          "output_type": "stream",
          "name": "stdout",
          "text": [
            "Quantidade de alunos: 10\n",
            "Alguém tirou nota zero? Não\n",
            "Menor nota: 6.7\n",
            "Maior nota: 9.2\n"
          ]
        }
      ]
    },
    {
      "cell_type": "code",
      "source": [
        "animes = {\n",
        "    \"Naruto\": 220,\n",
        "    \"Jujutsu Kaisen\": 47,\n",
        "    \"Dragon Ball Z\": 291,\n",
        "    \"Death Note\": 37,\n",
        "    \"Fullmetal Alchemist\": 64,\n",
        "    \"Evangelion\": 26,\n",
        "    \"Berserk\": 25,\n",
        "    \"Code Geass\": 50,\n",
        "    \"Akame ga Kill\": 24,\n",
        "    \"Elfen Lied\": 13\n",
        "}\n",
        "\n",
        "# 1. Total de episódios\n",
        "total = sum(animes.values())\n",
        "print(\"Total de episódios:\", total)\n",
        "\n",
        "# 2. Substituir valores pelo percentual\n",
        "for anime in animes:\n",
        "    animes[anime] = (animes[anime] / total) * 100\n",
        "\n",
        "# 3. Ordenar em ordem decrescente de percentual\n",
        "animes_ordenados = dict(sorted(animes.items(), key=lambda x: x[1], reverse=True))\n",
        "\n",
        "# 4. Exibir nome e percentual formatado\n",
        "print(\"\\nPercentual de episódios por anime:\")\n",
        "for nome, percentual in animes_ordenados.items():\n",
        "    print(f\"{nome}: {percentual:.2f}%\")\n"
      ],
      "metadata": {
        "colab": {
          "base_uri": "https://localhost:8080/"
        },
        "id": "yNhdHcCwvfMs",
        "outputId": "1bb48135-8f93-46e7-e230-0f73c4ef4c77"
      },
      "execution_count": 11,
      "outputs": [
        {
          "output_type": "stream",
          "name": "stdout",
          "text": [
            "Total de episódios: 797\n",
            "\n",
            "Percentual de episódios por anime:\n",
            "Dragon Ball Z: 36.51%\n",
            "Naruto: 27.60%\n",
            "Fullmetal Alchemist: 8.03%\n",
            "Code Geass: 6.27%\n",
            "Jujutsu Kaisen: 5.90%\n",
            "Death Note: 4.64%\n",
            "Evangelion: 3.26%\n",
            "Berserk: 3.14%\n",
            "Akame ga Kill: 3.01%\n",
            "Elfen Lied: 1.63%\n"
          ]
        }
      ]
    }
  ]
}